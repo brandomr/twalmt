{
 "metadata": {
  "name": "",
  "signature": "sha256:86a2cb5c7268a962a519842a2e12ae65bcc7d312614908486ea3bd6cb45bbf30"
 },
 "nbformat": 3,
 "nbformat_minor": 0,
 "worksheets": [
  {
   "cells": [
    {
     "cell_type": "heading",
     "level": 1,
     "metadata": {},
     "source": [
      "This notebook uses tweepy to access the Twitter API."
     ]
    },
    {
     "cell_type": "markdown",
     "metadata": {},
     "source": [
      "I plan to use tweepy to experiment with cluster analysis or the development of narrative schema on small amounts of text (140 characters or less!) or customer reviews using the Walmart API."
     ]
    },
    {
     "cell_type": "code",
     "collapsed": false,
     "input": [
      "import twitter\n",
      "import tweepy\n",
      "import json"
     ],
     "language": "python",
     "metadata": {},
     "outputs": [],
     "prompt_number": 1
    },
    {
     "cell_type": "markdown",
     "metadata": {},
     "source": [
      "Set auth using API key and API secret. Set access token using access token and access token secret."
     ]
    },
    {
     "cell_type": "code",
     "collapsed": false,
     "input": [
      "auth = tweepy.OAuthHandler('consumer_key', 'consumer_secret')\n",
      "\n",
      "auth.set_access_token('access_key', 'access_secret')"
     ],
     "language": "python",
     "metadata": {},
     "outputs": [],
     "prompt_number": 17
    },
    {
     "cell_type": "markdown",
     "metadata": {},
     "source": [
      "Instantiate the API instance. Note that tweepy functions will now be accessible via \n",
      "    \n",
      "    api."
     ]
    },
    {
     "cell_type": "code",
     "collapsed": false,
     "input": [
      "# Construct the API instance\n",
      "api = tweepy.API(auth)"
     ],
     "language": "python",
     "metadata": {},
     "outputs": [],
     "prompt_number": 18
    },
    {
     "cell_type": "markdown",
     "metadata": {},
     "source": [
      "Let's grab the home_timeline which will return 20 tweets on my application's timeline."
     ]
    },
    {
     "cell_type": "code",
     "collapsed": false,
     "input": [
      "public_tweets = api.home_timeline()\n",
      "for tweet in public_tweets:\n",
      "    print tweet.text"
     ],
     "language": "python",
     "metadata": {},
     "outputs": [
      {
       "output_type": "stream",
       "stream": "stdout",
       "text": [
        "RT @dvsumllc: Here's how we can help you ensure your #project's success: http://t.co/bFNsrqeLnC #dataquality #dataanalysis\n",
        "RT @chengtao_chu: Common mistakes when building machine learning models #datascience #machinelearning http://t.co/rlkhHGa3qQ\n",
        "RT @LoopGM: The future of #smartphones: A combination of #sensors, #MachineLearning &amp; #VirtualReality http://t.co/zTHlRrKRB7 #ArtificialInt\u2026\n",
        "RT @mikepluta: #MachineLearning Tweets: http://t.co/iM2iuM4RYr\n",
        "RT @L_Ploquin: @axellelemaire au Lancement du livre #bigdata de @babgi a la paillasse avec @audranlebaron @BuffardP http://t.co/PuWKCSQ4gv\n",
        "RT @DataconomyMedia: Introducing KOYA: Using Kafka &amp; YARN for Stream #Analytics on Hadoop: http://t.co/3QLSJ3CAOI #bigdata http://t.co/MKgF\u2026\n",
        "RT @krug_analytics: \u201cWhat\u2019s Hot &amp; What\u2019s Not in Data Science\u201d http://t.co/byKweEqXCy via @RenSip #datascience #bigdata\n",
        "RT @WhyOhio: @IBM, @dunnhumby, @Teradata and more making #Ohio the #BigData hub of the #Midwest. #WhyOhio #ReinventingAmerica\n",
        "RT @iotattack: Research: 30 percent of organizations collecting #bigdata - http://t.co/zzM0oQKIKZ ZDNet #IoT http://t.co/IItYkwyzz2 via Bey\u2026\n",
        "Study up on tonight's (3.11) #HintOfTheWeek for quick and ease points! http://t.co/hXzduNitXM http://t.co/I4OR6eGY4F\n",
        "RT @qhardy: $17,000 Apple Watches. $93,000 J-school degrees. $7.25 federal minimum wage.\n",
        "RT @Tom_Winter: A Government exhibit from the Tsarnaev trial shown today of a pressure cooker recovered from the second bomb site. http://t\u2026\n",
        "On the #redcarpet w/ @cmgiven JeffNoel from @OSSEDC! Proud to have been part of this excellent panel! #data4good http://t.co/FPYD77gsvR\n",
        "RT @paulbanoub: I\u2019m all about that cache, \u2018bout that cache, \u2018bout that cache  #TableauVTUG #wholenewlevel\n",
        "RT @coinok: Win $200 in Dogecoins every hour! http://t.co/BzASEwUPlq #doge #dogecoin #btc #bitcoin #ltc #altcoin #cryptocurrency\n",
        "RT @FluPhotos: Current Prices\n",
        "$292.39 #btce\n",
        "$295.18 #bitstamp\n",
        "Mine BTC now http://t.co/9tTF2DT1vJ\n",
        "#btc #bitcoin #bitcoinchase #cryptocurren\u2026\n",
        "RT @BitcoinzWoman: Coinbase launches 1st regulated #bitcoin #exchange in the us #crypto #cryptocurrency http://t.co/C1PIycQb6C\n",
        "RT @BitcoinzWoman: Introducing #coinbase community #bitcoin #crypto #cryptocurrency http://t.co/L1DDkQMOzu\n",
        "$92,993 for a journalism degree at Columbia.  Are you FREAKIN' kidding me? http://t.co/R9FHeLyzcl\n",
        "RT @sellingaccel: The @taylorswift13 Big Data Competition! #datascience #bigdata http://t.co/fTgB1FEp0f by @bentaylordata\n"
       ]
      }
     ],
     "prompt_number": 19
    },
    {
     "cell_type": "heading",
     "level": 2,
     "metadata": {},
     "source": [
      "Accessing Tweets by Location"
     ]
    },
    {
     "cell_type": "markdown",
     "metadata": {},
     "source": [
      "Set locations using lat, long for New York, Wash DC, Kansas City, and Los Angeles"
     ]
    },
    {
     "cell_type": "code",
     "collapsed": false,
     "input": [
      "NYCloc = api.trends_closest('40.759021', '-73.985045')\n",
      "DCloc = api.trends_closest('38.893548', '-76.999438')\n",
      "KCloc = api.trends_closest('39.0997', '-94.5783')\n",
      "LAloc = api.trends_closest('34.0500', '-118.2500')\n",
      "\n",
      "print \"The NYC location is defined by\"\n",
      "print NYCloc"
     ],
     "language": "python",
     "metadata": {},
     "outputs": [
      {
       "output_type": "stream",
       "stream": "stdout",
       "text": [
        "The NYC location is defined by\n",
        "[{u'name': u'New York', u'countryCode': u'US', u'url': u'http://where.yahooapis.com/v1/place/2459115', u'country': u'United States', u'parentid': 23424977, u'placeType': {u'code': 7, u'name': u'Town'}, u'woeid': 2459115}]\n"
       ]
      }
     ],
     "prompt_number": 54
    },
    {
     "cell_type": "markdown",
     "metadata": {},
     "source": [
      "Access trends using the *woeid*"
     ]
    },
    {
     "cell_type": "code",
     "collapsed": false,
     "input": [
      "DC_trends = api.trends_place(DCloc[0]['woeid'])\n",
      "NYC_trends = api.trends_place(NYCloc[0]['woeid'])\n",
      "KC_trends = api.trends_place(KCloc[0]['woeid'])\n",
      "LA_trends = api.trends_place(LAloc[0]['woeid'])"
     ],
     "language": "python",
     "metadata": {},
     "outputs": [],
     "prompt_number": 23
    },
    {
     "cell_type": "markdown",
     "metadata": {},
     "source": [
      "Print the trends for each location"
     ]
    },
    {
     "cell_type": "code",
     "collapsed": false,
     "input": [
      "print 'DC trends:'\n",
      "for i in DC_trends[0]['trends']:\n",
      "    print i['name']\n",
      "    \n",
      "    \n",
      "print \n",
      "\n",
      "print 'NYC trends:'\n",
      "for i in NYC_trends[0]['trends']:\n",
      "    print i['name']\n",
      "\n",
      "print\n",
      "    \n",
      "\n",
      "print 'KC trends:'\n",
      "for i in KC_trends[0]['trends']:\n",
      "    print i['name']\n",
      "\n",
      "print\n",
      "\n",
      "print 'LA trends:'\n",
      "for i in LA_trends[0]['trends']:\n",
      "    print i['name']"
     ],
     "language": "python",
     "metadata": {},
     "outputs": [
      {
       "output_type": "stream",
       "stream": "stdout",
       "text": [
        "DC trends:\n",
        "#GoodAdviceIn4Words\n",
        "#CHEPSG\n",
        "Costa\n",
        "Thiago Silva\n",
        "Chelsea\n",
        "David Luiz\n",
        "#NickGordonIntervention\n",
        "Ibra\n",
        "Zlatan\n",
        "Cavani\n",
        "\n",
        "NYC trends:\n",
        "#GoodAdviceIn4Words\n",
        "#CHEPSG\n",
        "#RapAlbumsThatCausedSlavery\n",
        "#PitMad\n",
        "#MayPac\n",
        "Luiz\n",
        "Diego Costa\n",
        "Thiago Silva\n",
        "Ibra\n",
        "Gary Cahill\n",
        "\n",
        "KC trends:\n",
        "#ChiefsKingdom\n",
        "Maclin\n",
        "Spring Break\n",
        "#GoodAdviceIn4Words\n",
        "#smoshlunchtime\n",
        "#CHEPSG\n",
        "Thiago Silva\n",
        "#NickGordonIntervention\n",
        "Jimmy Graham\n",
        "Bruce Carter\n",
        "\n",
        "LA trends:\n",
        "#GoodAdviceIn4Words\n",
        "#CHEPSG\n",
        "#MayPac\n",
        "#PitMad\n",
        "David Luiz\n",
        "Ibra\n",
        "Thiago Silva\n",
        "#smoshlunchtime\n",
        "Chelsea\n",
        "Diego Costa\n"
       ]
      }
     ],
     "prompt_number": 24
    },
    {
     "cell_type": "heading",
     "level": 2,
     "metadata": {},
     "source": [
      "Access a user's timeline to access their tweets"
     ]
    },
    {
     "cell_type": "markdown",
     "metadata": {},
     "source": [
      "Let's get tweets from *@WhiteHouse*."
     ]
    },
    {
     "cell_type": "code",
     "collapsed": false,
     "input": [
      "tweets = []\n",
      "user_to_get = \"WhiteHouse\"\n",
      "\n",
      "\n",
      "for status in tweepy.Cursor(api.user_timeline, id=user_to_get).items(2000):\n",
      "    #access the json property of the status object by appending ._json to the status item\n",
      "    tweets.append(status._json)\n",
      "\n",
      "print str(len(tweets)) + \" tweets collected from @\" + user_to_get"
     ],
     "language": "python",
     "metadata": {},
     "outputs": [
      {
       "output_type": "stream",
       "stream": "stdout",
       "text": [
        "2000 tweets collected from @WhiteHouse\n"
       ]
      }
     ],
     "prompt_number": 64
    },
    {
     "cell_type": "markdown",
     "metadata": {},
     "source": [
      "Let's take a look at the last ten tweets from *@WhiteHouse*"
     ]
    },
    {
     "cell_type": "code",
     "collapsed": false,
     "input": [
      "for status in tweets[:10]:\n",
      "    print status['text']\n",
      "    print"
     ],
     "language": "python",
     "metadata": {},
     "outputs": [
      {
       "output_type": "stream",
       "stream": "stdout",
       "text": [
        "RT @Cabinet: Check out OPM\u2019s work to ensure the fed govt remains diverse and a model employer of people with disabilities at http://t.co/ZE\u2026\n",
        "\n",
        "RT @Rob44: Proud to join the @WhiteHouse team and working to build an economy to last. 12 million jobs and counting... http://t.co/UKeAwTVO\u2026\n",
        "\n",
        "RT @TodaysDocument: Protesters stage a #sitin at the @WhiteHouse 50 yrs ago #TDiH 1965: http://t.co/wWHrKnmOkp #Selma50 via @LBJLibrary htt\u2026\n",
        "\n",
        "RT @Deese44: Not blowing hot air: @EIAgov predicting another big year for new wind, solar capacity in 2015. #ActOnClimate http://t.co/2Wau6\u2026\n",
        "\n",
        "RT @VP: \"Last week, we announced that 295,000 private sector jobs were created in the country in February.\" -VP Biden http://t.co/DOxWwTkMSz\n",
        "\n",
        "RT @WHLive: At 1:30pm ET, @Cecilia44 will answer your Q's on paying for college. Ask with #WHEdChat \u2192 http://t.co/853XDLAy6g http://t.co/Mi\u2026\n",
        "\n",
        "Stand with President Obama in support of the Student Aid Bill of Rights \u2192 http://t.co/nr1M53ijUD #CollegeOpportunity http://t.co/YSXEHovTn5\n",
        "\n",
        "Have questions on paying for college? Ask @Cecilia44 using #WHEdChat before her 1:30pm ET Q&amp;A: http://t.co/tHWQpMp2p0 http://t.co/ALGvaxTu2B\n",
        "\n",
        "RT @Cecilia44: Excited to answer your Qs on the Student Aid Bill of Rights at 1:30pm ET! Ask with #WHEdChat: http://t.co/ESXrLjCGWt http://\u2026\n",
        "\n",
        "Every student in America should be able to choose an affordable student loan repayment plan. #CollegeOpportunity http://t.co/oUqunWKWYT\n",
        "\n"
       ]
      }
     ],
     "prompt_number": 27
    },
    {
     "cell_type": "heading",
     "level": 3,
     "metadata": {},
     "source": [
      "Checking our API Status"
     ]
    },
    {
     "cell_type": "markdown",
     "metadata": {},
     "source": [
      "We just pulled down a lot of tweets! Let's see whether we got close to being rate limited."
     ]
    },
    {
     "cell_type": "code",
     "collapsed": false,
     "input": [
      "api_status = api.rate_limit_status()"
     ],
     "language": "python",
     "metadata": {},
     "outputs": [],
     "prompt_number": 68
    },
    {
     "cell_type": "code",
     "collapsed": false,
     "input": [
      "api_status['resources']['statuses']['/statuses/user_timeline']"
     ],
     "language": "python",
     "metadata": {},
     "outputs": [
      {
       "metadata": {},
       "output_type": "pyout",
       "prompt_number": 69,
       "text": [
        "{u'limit': 180, u'remaining': 80, u'reset': 1426114281}"
       ]
      }
     ],
     "prompt_number": 69
    },
    {
     "cell_type": "markdown",
     "metadata": {},
     "source": [
      "So, pulling 2000 tweets from **@WhiteHouse** used 100 of 180 allowable requests within the 15 minute time frame permitted by the Twitter API."
     ]
    },
    {
     "cell_type": "markdown",
     "metadata": {},
     "source": [
      "In case you're interested in what else you can learn through the **api_status** function, here are some other data it spits out:"
     ]
    },
    {
     "cell_type": "code",
     "collapsed": false,
     "input": [
      "for i in api_status['resources'].keys():\n",
      "    print i"
     ],
     "language": "python",
     "metadata": {},
     "outputs": [
      {
       "output_type": "stream",
       "stream": "stdout",
       "text": [
        "account\n",
        "blocks\n",
        "users\n",
        "contacts\n",
        "friends\n",
        "help\n",
        "saved_searches\n",
        "lists\n",
        "search\n",
        "application\n",
        "trends\n",
        "followers\n",
        "favorites\n",
        "device\n",
        "friendships\n",
        "geo\n",
        "direct_messages\n",
        "statuses\n",
        "mutes\n"
       ]
      }
     ],
     "prompt_number": 62
    }
   ],
   "metadata": {}
  }
 ]
}