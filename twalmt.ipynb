{
 "metadata": {
  "name": "",
  "signature": "sha256:e95e2e193b3b124fbb5eba107624789c54d84c41216e5c3d2aa9e05a05174f4b"
 },
 "nbformat": 3,
 "nbformat_minor": 0,
 "worksheets": [
  {
   "cells": [
    {
     "cell_type": "heading",
     "level": 1,
     "metadata": {},
     "source": [
      "This notebook uses tweepy to access the Twitter API."
     ]
    },
    {
     "cell_type": "markdown",
     "metadata": {},
     "source": [
      "I plan to use tweepy to experiment with cluster analysis or the development of narrative schema on small amounts of text (140 characters or less!) or customer reviews using the Walmart API."
     ]
    },
    {
     "cell_type": "code",
     "collapsed": false,
     "input": [
      "import twitter\n",
      "import tweepy\n",
      "import json"
     ],
     "language": "python",
     "metadata": {},
     "outputs": [],
     "prompt_number": 1
    },
    {
     "cell_type": "markdown",
     "metadata": {},
     "source": [
      "Read in my credentials from a text file and store them in the dict **credentials**"
     ]
    },
    {
     "cell_type": "code",
     "collapsed": false,
     "input": [
      "credentials = {}\n",
      "with open('/Users/brandomr/GoogleDrive/Python/Twitter Credentials/twitter_credentials.txt','r') as f:\n",
      "    for line in f:\n",
      "        cred_item = line.split(':')\n",
      "        credentials[cred_item[0]] = cred_item[1].strip()"
     ],
     "language": "python",
     "metadata": {},
     "outputs": [],
     "prompt_number": 197
    },
    {
     "cell_type": "markdown",
     "metadata": {},
     "source": [
      "Set auth using API key and API secret and set access token using access token and access token secret (all found in my **credentials** dict"
     ]
    },
    {
     "cell_type": "code",
     "collapsed": false,
     "input": [
      "auth = tweepy.OAuthHandler(credentials['Consumer_Key'], credentials['Consumer_Secret'])\n",
      "\n",
      "auth.set_access_token(credentials['Access_token'], credentials['Access_secret'])"
     ],
     "language": "python",
     "metadata": {},
     "outputs": [],
     "prompt_number": 199
    },
    {
     "cell_type": "markdown",
     "metadata": {},
     "source": [
      "Instantiate the API instance. Note that tweepy functions will now be accessible via \n",
      "    \n",
      "    api."
     ]
    },
    {
     "cell_type": "code",
     "collapsed": false,
     "input": [
      "# Construct the API instance\n",
      "api = tweepy.API(auth)"
     ],
     "language": "python",
     "metadata": {},
     "outputs": [],
     "prompt_number": 200
    },
    {
     "cell_type": "markdown",
     "metadata": {},
     "source": [
      "Let's grab the home_timeline which will return 20 tweets on my application's timeline."
     ]
    },
    {
     "cell_type": "code",
     "collapsed": false,
     "input": [
      "public_tweets = api.home_timeline()\n",
      "for tweet in public_tweets[:5]:\n",
      "    print tweet.text"
     ],
     "language": "python",
     "metadata": {},
     "outputs": [
      {
       "output_type": "stream",
       "stream": "stdout",
       "text": [
        "#Spark, Whistling Past the #Data Platform Graveyard http://t.co/bNwHNRj0PM\n",
        "Will your team be at Sunday's #TOCFinals at @buffalobilldc? Read our FAQ to get started! http://t.co/LF80LddvRy http://t.co/IbqRafhoLr\n",
        "#FarewellPat as @PatrickWillis52 says goodbye to fans by citing Jeremiah 29:11...tks for the memories!\n",
        "#GIK\n",
        "RT @McGMaryland: Facebook faces class action lawsuit over children's online purchases http://t.co/703LdUX5Vg #Facebook #mcgsecure\n",
        "RT @BINGBINGFORTUNE: Check out BINGBING Play on #Facebook!  ,, http://t.co/E4p9gR72I1\n"
       ]
      }
     ],
     "prompt_number": 202
    },
    {
     "cell_type": "heading",
     "level": 2,
     "metadata": {},
     "source": [
      "Run a basic search"
     ]
    },
    {
     "cell_type": "code",
     "collapsed": false,
     "input": [
      "query = '#SDGs implementation'\n",
      "search_results = []\n",
      "\n",
      "for status in tweepy.Cursor(api.search, q=query, ).items(2000):\n",
      "    #access the json property of the status object by appending ._json to the status item\n",
      "    search_results.append(status._json)\n"
     ],
     "language": "python",
     "metadata": {},
     "outputs": [],
     "prompt_number": 140
    },
    {
     "cell_type": "code",
     "collapsed": false,
     "input": [
      "print \"returned \" + str(len(search_results)) + \" results.\""
     ],
     "language": "python",
     "metadata": {},
     "outputs": [
      {
       "output_type": "stream",
       "stream": "stdout",
       "text": [
        "returned 62 results.\n"
       ]
      }
     ],
     "prompt_number": 148
    },
    {
     "cell_type": "markdown",
     "metadata": {},
     "source": [
      "Print results"
     ]
    },
    {
     "cell_type": "code",
     "collapsed": false,
     "input": [
      "for status in search_results[::-1]:\n",
      "    print status['text']\n",
      "    print status['created_at']\n",
      "    print"
     ],
     "language": "python",
     "metadata": {},
     "outputs": [
      {
       "output_type": "stream",
       "stream": "stdout",
       "text": [
        "Interested in implications of the #SDGs to the UN? Governance for or implementation of the SDGs? Need 2 researchers: http://t.co/VyMK60RoJJ\n",
        "Thu Mar 05 07:20:56 +0000 2015\n",
        "\n",
        "RT @UNDPGeneva: Join the discussion on how to make the #SDGs a success, March 11/ 18:30 at @IHEID with @michaelgerberCH: http://t.co/EAQOfY\u2026\n",
        "Thu Mar 05 07:29:04 +0000 2015\n",
        "\n",
        "RT @UNUIAS: Interested in implications of the #SDGs to the UN? Governance for or implementation of the SDGs? Need 2 researchers: http://t.c\u2026\n",
        "Thu Mar 05 07:31:14 +0000 2015\n",
        "\n",
        "Video from @DagHammarskjold @UNDP_Sweden event \"From Vision to Transformation\" on implementation of the new #SDGs http://t.co/uvUghapkAY\n",
        "Thu Mar 05 09:22:47 +0000 2015\n",
        "\n",
        "RT @UNUIAS: Interested in implications of the #SDGs to the UN? Governance for or implementation of the SDGs? Need 2 researchers: http://t.c\u2026\n",
        "Thu Mar 05 13:23:33 +0000 2015\n",
        "\n",
        "Join the debate: From Vision to Implementation:how can we make the #SDGs a reality? 11 March 6:30 pm at @IHEID: http://t.co/RDxaJdMXKW\n",
        "Thu Mar 05 13:41:20 +0000 2015\n",
        "\n",
        "RT @UNUIAS: Interested in implications of the #SDGs to the UN? Governance for or implementation of the SDGs? Need 2 researchers: http://t.c\u2026\n",
        "Thu Mar 05 23:36:43 +0000 2015\n",
        "\n",
        "RT @UNUIAS: Interested in implications of the #SDGs to the UN? Governance for or implementation of the SDGs? Need 2 researchers: http://t.c\u2026\n",
        "Fri Mar 06 03:46:06 +0000 2015\n",
        "\n",
        "17) Strengthen the means of implementation and revitalize the global partnership for sustainable development #SDGs #MDGs #updatemdgs\n",
        "Fri Mar 06 03:54:04 +0000 2015\n",
        "\n",
        "RT @UNUIAS: Interested in implications of the #SDGs to the UN? Governance for or implementation of the SDGs? Need 2 researchers: http://t.c\u2026\n",
        "Fri Mar 06 04:23:25 +0000 2015\n",
        "\n",
        "RT @UNUIAS: Interested in implications of the #SDGs to the UN? Governance for or implementation of the SDGs? Need 2 researchers: http://t.c\u2026\n",
        "Fri Mar 06 04:41:52 +0000 2015\n",
        "\n",
        "RT @UNUIAS: Interested in implications of the #SDGs to the UN? Governance for or implementation of the SDGs? Need 2 researchers: http://t.c\u2026\n",
        "Fri Mar 06 04:57:45 +0000 2015\n",
        "\n",
        "E-discussion on partnerships for the implementation of #action2015 #SDGs\n",
        "https://t.co/gkh0gbj2HV\n",
        "#SDG17 #GlobalPartnership\n",
        "Fri Mar 06 06:09:43 +0000 2015\n",
        "\n",
        "RT @ActorAtlas: E-discussion on partnerships for the implementation of #action2015 #SDGs\n",
        "https://t.co/gkh0gbj2HV\n",
        "#SDG17 #GlobalPartnership\n",
        "Fri Mar 06 06:21:40 +0000 2015\n",
        "\n",
        "RT @ActorAtlas: E-discussion on partnerships for the implementation of #action2015 #SDGs\n",
        "https://t.co/gkh0gbj2HV\n",
        "#SDG17 #GlobalPartnership\n",
        "Fri Mar 06 06:28:20 +0000 2015\n",
        "\n",
        "RT @ActorAtlas: E-discussion on partnerships for the implementation of #action2015 #SDGs\n",
        "https://t.co/gkh0gbj2HV\n",
        "#SDG17 #GlobalPartnership\n",
        "Fri Mar 06 07:30:54 +0000 2015\n",
        "\n",
        "Don't miss: From Vision to Implementation: How can we make the #SDGs a reality? http://t.co/qa3hERLlql http://t.co/2yUssT01la\n",
        "Fri Mar 06 10:37:37 +0000 2015\n",
        "\n",
        "RT @UNDPGeneva: Join the discussion on how to make the #SDGs a success, March 11/ 18:30 at @IHEID with @michaelgerberCH: http://t.co/EAQOfY\u2026\n",
        "Fri Mar 06 12:27:04 +0000 2015\n",
        "\n",
        "RT @UNDPGeneva: Join the discussion on how to make the #SDGs a success, March 11/ 18:30 at @IHEID with @michaelgerberCH: http://t.co/EAQOfY\u2026\n",
        "Fri Mar 06 12:39:53 +0000 2015\n",
        "\n",
        "RT @UNUIAS: Interested in implications of the #SDGs to the UN? Governance for or implementation of the SDGs? Need 2 researchers: http://t.c\u2026\n",
        "Fri Mar 06 13:05:17 +0000 2015\n",
        "\n",
        "Who are the key players to implement the #SDGs? Ask @michaelgerberCH &amp; @MartinezSoliman - March 11 / 6:30 at @IHEID: http://t.co/RaaEtMZp6n\n",
        "Fri Mar 06 21:31:06 +0000 2015\n",
        "\n",
        "RT @UNDPGeneva: Who are the key players to implement the #SDGs? Ask @michaelgerberCH &amp; @MartinezSoliman - March 11 / 6:30 at @IHEID: http:/\u2026\n",
        "Sat Mar 07 05:26:56 +0000 2015\n",
        "\n",
        "RT @UNDPGeneva: Join the debate: From Vision to Implementation:how can we make the #SDGs a reality? 11 March 6:30 pm at @IHEID: http://t.co\u2026\n",
        "Sat Mar 07 05:27:59 +0000 2015\n",
        "\n",
        "RT @UNDPGeneva: Join the debate: From Vision to Implementation:how can we make the #SDGs a reality? 11 March 6:30 pm at @IHEID: http://t.co\u2026\n",
        "Sat Mar 07 05:45:18 +0000 2015\n",
        "\n",
        "RT @UNDPGeneva: Who are the key players to implement the #SDGs? Ask @michaelgerberCH &amp; @MartinezSoliman - March 11 / 6:30 at @IHEID: http:/\u2026\n",
        "Sat Mar 07 05:45:42 +0000 2015\n",
        "\n",
        "RT @UNDPGeneva: Join the debate: From Vision to Implementation:how can we make the #SDGs a reality? 11 March 6:30 pm at @IHEID: http://t.co\u2026\n",
        "Sat Mar 07 09:45:38 +0000 2015\n",
        "\n",
        "How can the devt sector deliver better 4 the #SDGs? Ask @gcarbonnier &amp; @MartinezSoliman - March 11 / 6:30 at @IHEID: http://t.co/RaaEtMZp6n\n",
        "Sat Mar 07 13:55:11 +0000 2015\n",
        "\n",
        "RT @urbansufism: 17) Strengthen the means of implementation and revitalize the global partnership for sustainable development #SDGs #MDGs #\u2026\n",
        "Sat Mar 07 14:08:55 +0000 2015\n",
        "\n",
        "RT @Pkeuleers1: #Chisinau Outcome Statement-institutional capacities for #post2015 #SDGs implementation https://t.co/poRffUNxrb http://t.co\u2026\n",
        "Sun Mar 08 22:46:55 +0000 2015\n",
        "\n",
        "This Wednesday: How can we make the #SDGs a reality? Join discussion @IHEID Geneva with Amb. Gerber http://t.co/dd2VudtsZh @UNDPGeneva\n",
        "Mon Mar 09 13:02:02 +0000 2015\n",
        "\n",
        "What is the role #PrivateSector should play to implement the #SDGs? Join us to discuss @IHEID on March 11th at  http://t.co/RDxaJdMXKW\n",
        "Mon Mar 09 14:05:24 +0000 2015\n",
        "\n",
        "RT @UNDPGeneva: What is the role #PrivateSector should play to implement the #SDGs? Join us to discuss @IHEID on March 11th at  http://t.co\u2026\n",
        "Mon Mar 09 15:43:55 +0000 2015\n",
        "\n",
        "#CSW59 Female Parliamentarians have a key role in the implementation of the #MDGs &amp; #SDGs http://t.co/acdy4Bpmhx\n",
        "Mon Mar 09 18:52:33 +0000 2015\n",
        "\n",
        "RT @UNDPGeneva: What is the role #PrivateSector should play to implement the #SDGs? Join us to discuss @IHEID on March 11th at  http://t.co\u2026\n",
        "Tue Mar 10 09:54:32 +0000 2015\n",
        "\n",
        "RT @UNDPGeneva: What is the role #PrivateSector should play to implement the #SDGs? Join us to discuss @IHEID on March 11th at  http://t.co\u2026\n",
        "Tue Mar 10 09:55:40 +0000 2015\n",
        "\n",
        "RT @UNDPGeneva: What is the role #PrivateSector should play to implement the #SDGs? Join us to discuss @IHEID on March 11th at  http://t.co\u2026\n",
        "Tue Mar 10 10:07:41 +0000 2015\n",
        "\n",
        "RT @UNDPGeneva: What is the role #PrivateSector should play to implement the #SDGs? Join us to discuss @IHEID on March 11th at  http://t.co\u2026\n",
        "Tue Mar 10 10:07:59 +0000 2015\n",
        "\n",
        "\"@UNDPGeneva:What is t role #PrivateSector should play2implement t #SDGs?Join us to discuss @IHEID on March11th at  http://t.co/wqjlp5ewGi\"\n",
        "Tue Mar 10 10:08:46 +0000 2015\n",
        "\n",
        "RT @UNDPGeneva: What is the role #PrivateSector should play to implement the #SDGs? Join us to discuss @IHEID on March 11th at  http://t.co\u2026\n",
        "Tue Mar 10 10:51:52 +0000 2015\n",
        "\n",
        "Join discussion on how to make #SDGs a reality with @UNOG_DG 11 March, 18.30 http://t.co/j2Z3KlGnbS\n",
        "Tue Mar 10 12:20:06 +0000 2015\n",
        "\n",
        "RT @UNOGPolitical: Join discussion on how to make #SDGs a reality with @UNOG_DG 11 March, 18.30 http://t.co/j2Z3KlGnbS\n",
        "Tue Mar 10 12:21:48 +0000 2015\n",
        "\n",
        "CSO &amp; the Post 2015 Development Agenda consultation with the #Fijigovt underway in discussing implementation of #SDGs in due time #pacific\n",
        "Wed Mar 11 00:10:04 +0000 2015\n",
        "\n",
        "Join @UNDPGeneva tonight @IHEID to discuss the role of #PrivateSector on the #Post2015 #SDGs - http://t.co/FBQJk00LPv http://t.co/GHSvNcePQE\n",
        "Wed Mar 11 11:00:38 +0000 2015\n",
        "\n",
        "RT @IHEID: Join @UNDPGeneva tonight @IHEID to discuss the role of #PrivateSector on the #Post2015 #SDGs - http://t.co/FBQJk00LPv http://t.c\u2026\n",
        "Wed Mar 11 11:10:05 +0000 2015\n",
        "\n",
        "RT @IHEID: Join @UNDPGeneva tonight @IHEID to discuss the role of #PrivateSector on the #Post2015 #SDGs - http://t.co/FBQJk00LPv http://t.c\u2026\n",
        "Wed Mar 11 11:11:57 +0000 2015\n",
        "\n",
        "RT @IHEID: Join @UNDPGeneva tonight @IHEID to discuss the role of #PrivateSector on the #Post2015 #SDGs - http://t.co/FBQJk00LPv http://t.c\u2026\n",
        "Wed Mar 11 11:17:51 +0000 2015\n",
        "\n",
        "RT @IHEID: Join @UNDPGeneva tonight @IHEID to discuss the role of #PrivateSector on the #Post2015 #SDGs - http://t.co/FBQJk00LPv http://t.c\u2026\n",
        "Wed Mar 11 11:18:17 +0000 2015\n",
        "\n",
        "RT @IHEID: Join @UNDPGeneva tonight @IHEID to discuss the role of #PrivateSector on the #Post2015 #SDGs - http://t.co/FBQJk00LPv http://t.c\u2026\n",
        "Wed Mar 11 12:02:04 +0000 2015\n",
        "\n",
        "How can we make the #SDGs a reality? Join discussion on #post2015 implementation at 18.30 @IHEID Geneva: http://t.co/h0uFtJsdQz @UNDPGeneva\n",
        "Wed Mar 11 16:02:10 +0000 2015\n",
        "\n",
        "@IHEID  live discussion, From Vision to Implementation: How can we make the #SDGs a reality?\n",
        "Wed Mar 11 17:37:31 +0000 2015\n",
        "\n",
        "\"From vision to implementation, how can we make the #SDGs a reality\" with @UNDP @IHEID @post2015_CH @UNOG_DG . http://t.co/ZBVXQzDAnW\n",
        "Wed Mar 11 17:53:57 +0000 2015\n",
        "\n",
        "Our panel on how to make the #SDGs a success is about to start at @IHEID with @michaelgerberCH &amp; @MartinezSoliman : http://t.co/EAQOfYLzBj\n",
        "Wed Mar 11 18:25:10 +0000 2015\n",
        "\n",
        ".@MartinezSoliman: \"National ownership should drive the implementation of the   #post2015 agenda\" #SDGs @UNDP http://t.co/tsv2NYql9R\n",
        "Wed Mar 11 18:55:27 +0000 2015\n",
        "\n",
        ".@MartinezSoliman National ownership is crucial in the implementation of #SDGs #post2015 @UNDP\n",
        "Wed Mar 11 18:59:25 +0000 2015\n",
        "\n",
        "Implementation of the #SDGs will need more #accountability than #MDGs. Transparency is key, says @michaelgerberCH. #post2015\n",
        "Wed Mar 11 19:00:14 +0000 2015\n",
        "\n",
        "RT @TheCVF: Implementation of the #SDGs will need more #accountability than #MDGs. Transparency is key, says @michaelgerberCH. #post2015\n",
        "Wed Mar 11 19:00:28 +0000 2015\n",
        "\n",
        "RT @TheCVF: Implementation of the #SDGs will need more #accountability than #MDGs. Transparency is key, says @michaelgerberCH. #post2015\n",
        "Wed Mar 11 19:35:56 +0000 2015\n",
        "\n",
        "RT @TheCVF: Implementation of the #SDGs will need more #accountability than #MDGs. Transparency is key, says @michaelgerberCH. #post2015\n",
        "Wed Mar 11 19:47:51 +0000 2015\n",
        "\n",
        "UNV DEC mentions #UNSG Synthesis Report, recognizing #volunteerism as a complementary means of implementation for #SDGs #CSW59 #post2015\n",
        "Thu Mar 12 17:29:28 +0000 2015\n",
        "\n",
        "RT @UNVolunteers: UNV DEC mentions #UNSG Synthesis Report, recognizing #volunteerism as a complementary means of implementation for #SDGs #\u2026\n",
        "Thu Mar 12 17:58:19 +0000 2015\n",
        "\n",
        "RT @UNVolunteers: UNV DEC mentions #UNSG Synthesis Report, recognizing #volunteerism as a complementary means of implementation for #SDGs #\u2026\n",
        "Thu Mar 12 18:26:34 +0000 2015\n",
        "\n",
        "#SDGs 17: Strengthen the means of implementation &amp; revitalize #globalpartnership for sustainable development #SDG17 http://t.co/JHJFMDcdSA\n",
        "Thu Mar 12 18:39:29 +0000 2015\n",
        "\n"
       ]
      }
     ],
     "prompt_number": 173
    },
    {
     "cell_type": "heading",
     "level": 2,
     "metadata": {},
     "source": [
      "Accessing Tweets by Location"
     ]
    },
    {
     "cell_type": "markdown",
     "metadata": {},
     "source": [
      "Set locations using lat, long for New York, Wash DC, Kansas City, and Los Angeles"
     ]
    },
    {
     "cell_type": "code",
     "collapsed": false,
     "input": [
      "NYCloc = api.trends_closest('40.759021', '-73.985045')\n",
      "DCloc = api.trends_closest('38.893548', '-76.999438')\n",
      "KCloc = api.trends_closest('39.0997', '-94.5783')\n",
      "LAloc = api.trends_closest('34.0500', '-118.2500')\n",
      "\n",
      "print \"The NYC location is defined by\"\n",
      "print NYCloc"
     ],
     "language": "python",
     "metadata": {},
     "outputs": [
      {
       "output_type": "stream",
       "stream": "stdout",
       "text": [
        "The NYC location is defined by\n",
        "[{u'name': u'New York', u'countryCode': u'US', u'url': u'http://where.yahooapis.com/v1/place/2459115', u'country': u'United States', u'parentid': 23424977, u'placeType': {u'code': 7, u'name': u'Town'}, u'woeid': 2459115}]\n"
       ]
      }
     ],
     "prompt_number": 54
    },
    {
     "cell_type": "markdown",
     "metadata": {},
     "source": [
      "Access trends using the *woeid*"
     ]
    },
    {
     "cell_type": "code",
     "collapsed": false,
     "input": [
      "DC_trends = api.trends_place(DCloc[0]['woeid'])\n",
      "NYC_trends = api.trends_place(NYCloc[0]['woeid'])\n",
      "KC_trends = api.trends_place(KCloc[0]['woeid'])\n",
      "LA_trends = api.trends_place(LAloc[0]['woeid'])"
     ],
     "language": "python",
     "metadata": {},
     "outputs": [],
     "prompt_number": 23
    },
    {
     "cell_type": "markdown",
     "metadata": {},
     "source": [
      "Print the trends for each location"
     ]
    },
    {
     "cell_type": "code",
     "collapsed": false,
     "input": [
      "print 'DC trends:'\n",
      "for i in DC_trends[0]['trends']:\n",
      "    print i['name']\n",
      "    \n",
      "    \n",
      "print \n",
      "\n",
      "print 'NYC trends:'\n",
      "for i in NYC_trends[0]['trends']:\n",
      "    print i['name']\n",
      "\n",
      "print\n",
      "    \n",
      "\n",
      "print 'KC trends:'\n",
      "for i in KC_trends[0]['trends']:\n",
      "    print i['name']\n",
      "\n",
      "print\n",
      "\n",
      "print 'LA trends:'\n",
      "for i in LA_trends[0]['trends']:\n",
      "    print i['name']"
     ],
     "language": "python",
     "metadata": {},
     "outputs": [
      {
       "output_type": "stream",
       "stream": "stdout",
       "text": [
        "DC trends:\n",
        "#GoodAdviceIn4Words\n",
        "#CHEPSG\n",
        "Costa\n",
        "Thiago Silva\n",
        "Chelsea\n",
        "David Luiz\n",
        "#NickGordonIntervention\n",
        "Ibra\n",
        "Zlatan\n",
        "Cavani\n",
        "\n",
        "NYC trends:\n",
        "#GoodAdviceIn4Words\n",
        "#CHEPSG\n",
        "#RapAlbumsThatCausedSlavery\n",
        "#PitMad\n",
        "#MayPac\n",
        "Luiz\n",
        "Diego Costa\n",
        "Thiago Silva\n",
        "Ibra\n",
        "Gary Cahill\n",
        "\n",
        "KC trends:\n",
        "#ChiefsKingdom\n",
        "Maclin\n",
        "Spring Break\n",
        "#GoodAdviceIn4Words\n",
        "#smoshlunchtime\n",
        "#CHEPSG\n",
        "Thiago Silva\n",
        "#NickGordonIntervention\n",
        "Jimmy Graham\n",
        "Bruce Carter\n",
        "\n",
        "LA trends:\n",
        "#GoodAdviceIn4Words\n",
        "#CHEPSG\n",
        "#MayPac\n",
        "#PitMad\n",
        "David Luiz\n",
        "Ibra\n",
        "Thiago Silva\n",
        "#smoshlunchtime\n",
        "Chelsea\n",
        "Diego Costa\n"
       ]
      }
     ],
     "prompt_number": 24
    },
    {
     "cell_type": "heading",
     "level": 2,
     "metadata": {},
     "source": [
      "Access a user's timeline to access their tweets"
     ]
    },
    {
     "cell_type": "markdown",
     "metadata": {},
     "source": [
      "Let's get tweets from *@WhiteHouse*."
     ]
    },
    {
     "cell_type": "code",
     "collapsed": false,
     "input": [
      "tweets = []\n",
      "user_to_get = \"WhiteHouse\"\n",
      "\n",
      "\n",
      "for status in tweepy.Cursor(api.user_timeline, id=user_to_get).items(2000):\n",
      "    #access the json property of the status object by appending ._json to the status item\n",
      "    tweets.append(status._json)\n",
      "\n",
      "print str(len(tweets)) + \" tweets collected from @\" + user_to_get"
     ],
     "language": "python",
     "metadata": {},
     "outputs": [
      {
       "output_type": "stream",
       "stream": "stdout",
       "text": [
        "2000 tweets collected from @WhiteHouse\n"
       ]
      }
     ],
     "prompt_number": 64
    },
    {
     "cell_type": "markdown",
     "metadata": {},
     "source": [
      "Let's take a look at the last ten tweets from *@WhiteHouse*"
     ]
    },
    {
     "cell_type": "code",
     "collapsed": false,
     "input": [
      "for status in tweets[:10]:\n",
      "    print status['text']\n",
      "    print"
     ],
     "language": "python",
     "metadata": {},
     "outputs": [
      {
       "output_type": "stream",
       "stream": "stdout",
       "text": [
        "RT @Cabinet: Check out OPM\u2019s work to ensure the fed govt remains diverse and a model employer of people with disabilities at http://t.co/ZE\u2026\n",
        "\n",
        "RT @Rob44: Proud to join the @WhiteHouse team and working to build an economy to last. 12 million jobs and counting... http://t.co/UKeAwTVO\u2026\n",
        "\n",
        "RT @TodaysDocument: Protesters stage a #sitin at the @WhiteHouse 50 yrs ago #TDiH 1965: http://t.co/wWHrKnmOkp #Selma50 via @LBJLibrary htt\u2026\n",
        "\n",
        "RT @Deese44: Not blowing hot air: @EIAgov predicting another big year for new wind, solar capacity in 2015. #ActOnClimate http://t.co/2Wau6\u2026\n",
        "\n",
        "RT @VP: \"Last week, we announced that 295,000 private sector jobs were created in the country in February.\" -VP Biden http://t.co/DOxWwTkMSz\n",
        "\n",
        "RT @WHLive: At 1:30pm ET, @Cecilia44 will answer your Q's on paying for college. Ask with #WHEdChat \u2192 http://t.co/853XDLAy6g http://t.co/Mi\u2026\n",
        "\n",
        "Stand with President Obama in support of the Student Aid Bill of Rights \u2192 http://t.co/nr1M53ijUD #CollegeOpportunity http://t.co/YSXEHovTn5\n",
        "\n",
        "Have questions on paying for college? Ask @Cecilia44 using #WHEdChat before her 1:30pm ET Q&amp;A: http://t.co/tHWQpMp2p0 http://t.co/ALGvaxTu2B\n",
        "\n",
        "RT @Cecilia44: Excited to answer your Qs on the Student Aid Bill of Rights at 1:30pm ET! Ask with #WHEdChat: http://t.co/ESXrLjCGWt http://\u2026\n",
        "\n",
        "Every student in America should be able to choose an affordable student loan repayment plan. #CollegeOpportunity http://t.co/oUqunWKWYT\n",
        "\n"
       ]
      }
     ],
     "prompt_number": 27
    },
    {
     "cell_type": "heading",
     "level": 3,
     "metadata": {},
     "source": [
      "Checking our API Status"
     ]
    },
    {
     "cell_type": "markdown",
     "metadata": {},
     "source": [
      "We just pulled down a lot of tweets! Let's see whether we got close to being rate limited."
     ]
    },
    {
     "cell_type": "code",
     "collapsed": false,
     "input": [
      "api_status = api.rate_limit_status()"
     ],
     "language": "python",
     "metadata": {},
     "outputs": [],
     "prompt_number": 121
    },
    {
     "cell_type": "code",
     "collapsed": false,
     "input": [
      "api_status['resources']['statuses']['/statuses/user_timeline']"
     ],
     "language": "python",
     "metadata": {},
     "outputs": [
      {
       "metadata": {},
       "output_type": "pyout",
       "prompt_number": 122,
       "text": [
        "{u'limit': 180, u'remaining': 180, u'reset': 1426192813}"
       ]
      }
     ],
     "prompt_number": 122
    },
    {
     "cell_type": "markdown",
     "metadata": {},
     "source": [
      "So, pulling 2000 tweets from **@WhiteHouse** used 100 of 180 allowable requests within the 15 minute time frame permitted by the Twitter API."
     ]
    },
    {
     "cell_type": "markdown",
     "metadata": {},
     "source": [
      "In case you're interested in what else you can learn through the **api_status** function, here are some other data it spits out:"
     ]
    },
    {
     "cell_type": "code",
     "collapsed": false,
     "input": [
      "for i in api_status['resources'].keys():\n",
      "    print i"
     ],
     "language": "python",
     "metadata": {},
     "outputs": [
      {
       "output_type": "stream",
       "stream": "stdout",
       "text": [
        "account\n",
        "blocks\n",
        "users\n",
        "contacts\n",
        "friends\n",
        "help\n",
        "saved_searches\n",
        "lists\n",
        "search\n",
        "application\n",
        "trends\n",
        "followers\n",
        "favorites\n",
        "device\n",
        "friendships\n",
        "geo\n",
        "direct_messages\n",
        "statuses\n",
        "mutes\n"
       ]
      }
     ],
     "prompt_number": 123
    },
    {
     "cell_type": "code",
     "collapsed": false,
     "input": [
      "api_status['resources']['search']"
     ],
     "language": "python",
     "metadata": {},
     "outputs": [
      {
       "metadata": {},
       "output_type": "pyout",
       "prompt_number": 124,
       "text": [
        "{u'/search/tweets': {u'limit': 180, u'remaining': 166, u'reset': 1426192481}}"
       ]
      }
     ],
     "prompt_number": 124
    },
    {
     "cell_type": "code",
     "collapsed": false,
     "input": [],
     "language": "python",
     "metadata": {},
     "outputs": []
    }
   ],
   "metadata": {}
  }
 ]
}