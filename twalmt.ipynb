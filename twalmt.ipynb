{
 "metadata": {
  "name": "",
  "signature": "sha256:c866b17b4c1ee86b037a9cc9eaa53eb117db0816c6cce1dac4d65df55a0dda03"
 },
 "nbformat": 3,
 "nbformat_minor": 0,
 "worksheets": [
  {
   "cells": [
    {
     "cell_type": "code",
     "collapsed": false,
     "input": [
      "import twitter\n",
      "import tweepy"
     ],
     "language": "python",
     "metadata": {},
     "outputs": [],
     "prompt_number": 12
    },
    {
     "cell_type": "code",
     "collapsed": false,
     "input": [
      "auth = tweepy.OAuthHandler('key', 'secret')\n",
      "\n",
      "auth.set_access_token('token', 'secret')"
     ],
     "language": "python",
     "metadata": {},
     "outputs": [],
     "prompt_number": 68
    },
    {
     "cell_type": "code",
     "collapsed": false,
     "input": [
      "# Construct the API instance\n",
      "api = tweepy.API(auth)"
     ],
     "language": "python",
     "metadata": {},
     "outputs": [],
     "prompt_number": 18
    },
    {
     "cell_type": "code",
     "collapsed": false,
     "input": [
      "public_tweets = api.home_timeline()\n",
      "for tweet in public_tweets:\n",
      "    print tweet.text"
     ],
     "language": "python",
     "metadata": {},
     "outputs": [
      {
       "output_type": "stream",
       "stream": "stdout",
       "text": [
        "NFL ally protests Redskins name, after failing to persuade Redskins owner http://t.co/CdFFiNwmQH\n",
        "President Obama works with young boys during a #MartinLutherKingDay service project at the Boys &amp; Girls Club in D.C. http://t.co/yIZCxVe7d9\n",
        "RT @MyResLoc: #Building #MachineLearning Solution? Learn From a Bartender http://t.co/aXIWPcst2U #bigdata #strategy\n",
        "RT @TidemarkEPM: #FP&amp;A and Cultural Preparedness for #BigData (by @APQC in @CFO): http://t.co/NmxYY4hMqG #CFO #bigdatafinance http://t.co/e\u2026\n",
        "RT @BigDataNetwork: #BigData News \u00bb WANdisco claims big data sales breakthrough: But shares slide on missed ex... http://t.co/2ImaLRixha vi\u2026\n",
        "RT @TimIntel: That elusive #datascientist might be right under your nose http://t.co/C0RlBPcPxA by @joschloss via @cmswire #IT #datascience\u2026\n",
        "RT @couchbase: These 7 do's and don'ts will help you make your #BigData project a success! http://t.co/rfp0vGR5Nn via @SearchCIO\n",
        "happy MLK day, from the @HISTORY channel http://t.co/TTBUeNR2J0\n",
        "Like H.M.O.s, but not really: a closer look at accountable care organizations.  http://t.co/uO2iadJvig http://t.co/R9khPtARjf\n",
        "RT @AgusPiedrabuena: Paper de #BigData del Gobierno UK identificando tendencias y oportunidades xra gobiernos y mercado http://t.co/fZ6pqHR\u2026\n",
        "RT @TungstenBigData: Big data tops humans at picking 'significant' films: study http://t.co/v4vDEWkhfc #BigData\n",
        "RT @TungstenBigData: WANdisco claims big data sales breakthrough http://t.co/24BpQJHcCe #BigData\n",
        "RT @UrbDemogrphics: Watch @TimHarford's great presentation on the #bigdata trap, at the @RoyalStatSoc http://t.co/ZMGpqfrCU5 http://t.co/xz\u2026\n",
        "RT @pivotal: GemFire XD 1.4 Now Available for Download http://t.co/js2Lq8NOt8 #bigdata\n",
        "RT @ruby_engineer: Corporate Learning at Scale: Lessons from a Large Online Course at Google [pdf] http://t.co/ofNCO8wmEJ #hacker #rubyonra\u2026\n",
        "RT @ruby_engineer: The Best Entrepreneur I Know http://t.co/yTzsHbQhd6 #hacker #rubyonrails #python #AllTech\n",
        "RT @ruby_engineer: GitHub: Organization-approved applications http://t.co/INYlT2IczH #hacker #rubyonrails #python #AllTech\n",
        "RT @littleblackvlc: M\u00edas #mariserpienta #patasparriba #rebajas #zara #zarapeople #snake #instablogger #python #shoelover\u2026 http://t.co/pLoHe\u2026\n",
        "RT @c0ding: Python tips and traps || http://t.co/VDxIFzMWXs || #python\n",
        "RT @DAMindpower: AdWords offer! FREE optimisation of your account this winter! #google #adwords http://t.co/YCI5Al7XRh\n"
       ]
      }
     ],
     "prompt_number": 19
    },
    {
     "cell_type": "code",
     "collapsed": false,
     "input": [
      "NYCloc = api.trends_closest('40.759021', '-73.985045')"
     ],
     "language": "python",
     "metadata": {},
     "outputs": [],
     "prompt_number": 64
    },
    {
     "cell_type": "code",
     "collapsed": false,
     "input": [
      "DCloc = api.trends_closest('38.893548', '-76.999438')"
     ],
     "language": "python",
     "metadata": {},
     "outputs": [],
     "prompt_number": 60
    },
    {
     "cell_type": "code",
     "collapsed": false,
     "input": [
      "DCloc[0]['woeid']"
     ],
     "language": "python",
     "metadata": {},
     "outputs": [
      {
       "metadata": {},
       "output_type": "pyout",
       "prompt_number": 61,
       "text": [
        "2514815"
       ]
      }
     ],
     "prompt_number": 61
    },
    {
     "cell_type": "code",
     "collapsed": false,
     "input": [
      "DC_trends = api.trends_place(DCloc[0]['woeid'])"
     ],
     "language": "python",
     "metadata": {},
     "outputs": [],
     "prompt_number": 62
    },
    {
     "cell_type": "code",
     "collapsed": false,
     "input": [
      "NYC_trends = api.trends_place(NYCloc[0]['woeid'])"
     ],
     "language": "python",
     "metadata": {},
     "outputs": [],
     "prompt_number": 65
    },
    {
     "cell_type": "code",
     "collapsed": false,
     "input": [
      "print 'DC trends:'\n",
      "for i in DC_trends[0]['trends']:\n",
      "    print i['name']\n",
      "    \n",
      "    \n",
      "print \n",
      "\n",
      "print 'NYC trends:'\n",
      "for i in NYC_trends[0]['trends']:\n",
      "    print i['name']"
     ],
     "language": "python",
     "metadata": {},
     "outputs": [
      {
       "output_type": "stream",
       "stream": "stdout",
       "text": [
        "DC trends:\n",
        "#NewKianAndJcVideo\n",
        "#MLKDay\n",
        "#ShawnsFirstHeadlines\n",
        "Blount\n",
        "Scherzer\n",
        "American Sniper\n",
        "#SuperBowlXLIX\n",
        "Nats\n",
        "#RHOA\n",
        "Tom Brady\n",
        "\n",
        "NYC trends:\n",
        "#NewKianAndJcVideo\n",
        "#ShawnsFirstHeadlines\n",
        "#MartinLutherKingDay\n",
        "#MLKDay\n",
        "#KianAndJcToday\n",
        "Del Zotto\n",
        "American Sniper\n",
        "Vince Wilfork\n",
        "Scherzer\n",
        "Patriots\n"
       ]
      }
     ],
     "prompt_number": 67
    },
    {
     "cell_type": "code",
     "collapsed": false,
     "input": [],
     "language": "python",
     "metadata": {},
     "outputs": []
    }
   ],
   "metadata": {}
  }
 ]
}